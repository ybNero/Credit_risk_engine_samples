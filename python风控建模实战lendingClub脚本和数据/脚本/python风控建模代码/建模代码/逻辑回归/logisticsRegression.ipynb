{
 "cells": [
  {
   "cell_type": "code",
   "execution_count": 5,
   "metadata": {},
   "outputs": [],
   "source": [
    "#作者邮箱231469242@qq.com\n",
    "#作者博客：https://www.cnblogs.com/webRobot/\n",
    "import matplotlib.pyplot as plt\n",
    "from sklearn.model_selection import train_test_split\n",
    "import pandas as pd\n",
    "import numpy as np\n",
    "#混淆矩阵计算\n",
    "from sklearn import metrics\n",
    "from sklearn.metrics import roc_curve, auc,roc_auc_score\n",
    "from sklearn.metrics import precision_score\n",
    "from sklearn.metrics import accuracy_score\n",
    "from sklearn.metrics import recall_score\n",
    "from sklearn.metrics import f1_score\n",
    "from sklearn.linear_model.logistic import LogisticRegression\n",
    "from sklearn.preprocessing import Imputer"
   ]
  },
  {
   "cell_type": "code",
   "execution_count": null,
   "metadata": {},
   "outputs": [],
   "source": [
    "readFileName=\"data.xlsx\"\n",
    "#删除信息增益低或0的变量，单一占比高变量，入模型变量99个\n",
    "#读取excel\n",
    "data=pd.read_excel(readFileName)"
   ]
  },
  {
   "cell_type": "code",
   "execution_count": null,
   "metadata": {},
   "outputs": [],
   "source": [
    "#数据预处理\n",
    "imp = Imputer(missing_values='NaN', strategy='most_frequent', axis=0)\n",
    "imp.fit(data)\n",
    "x=imp.transform(data)"
   ]
  },
  {
   "cell_type": "code",
   "execution_count": 3,
   "metadata": {},
   "outputs": [],
   "source": [
    "#读取目标文件\n",
    "targetFileName=\"target.xlsx\"\n",
    "target=pd.read_excel(targetFileName)\n",
    "y=target.values\n",
    "\n",
    "train_x, test_x, y_train, y_test=train_test_split(x,y,test_size=0.3,random_state=0)"
   ]
  },
  {
   "cell_type": "code",
   "execution_count": null,
   "metadata": {},
   "outputs": [],
   "source": [
    "cb = LogisticRegression()\n",
    "cb.fit(train_x, y_train)"
   ]
  },
  {
   "cell_type": "code",
   "execution_count": null,
   "metadata": {},
   "outputs": [],
   "source": [
    "print(\"accuracy on the training subset:{:.3f}\".format(cb.score(train_x,y_train)))\n",
    "print(\"accuracy on the test subset:{:.3f}\".format(cb.score(test_x,y_test)))"
   ]
  },
  {
   "cell_type": "code",
   "execution_count": null,
   "metadata": {},
   "outputs": [],
   "source": [
    "y_true=y_test\n",
    "y_pred=cb.predict(test_x)\n",
    "accuracyScore = accuracy_score(y_true, y_pred)\n",
    "print(\"test data:\")\n",
    "print('model accuracy is:',accuracyScore)\n",
    "\n",
    "#precision,TP/(TP+FP) （真阳性）/（真阳性+假阳性）\n",
    "precision=precision_score(y_true, y_pred)\n",
    "print('model precision is:',precision)\n",
    "\n",
    "#recall（sensitive）敏感度，(TP)/（TP+FN）\n",
    "sensitivity=recall_score(y_true, y_pred)\n",
    "print('model sensitivity is:',sensitivity)\n",
    " \n",
    "#F1 = 2 x (精确率 x 召回率) / (精确率 + 召回率)\n",
    "#F1 分数会同时考虑精确率和召回率，以便计算新的分数。可将 F1 分数理解为精确率和召回率的加权平均值，其中 F1 分数的最佳值为 1、最差值为 0：\n",
    "f1Score=f1_score(y_true, y_pred)\n",
    "print(\"f1_score:\",f1Score)"
   ]
  },
  {
   "cell_type": "code",
   "execution_count": null,
   "metadata": {},
   "outputs": [],
   "source": [
    "#获取所有x数据的预测概率,包括好客户和坏客户，0为好客户，1为坏客户\n",
    "probablity_list=cb.predict_proba(test_x)\n",
    "#获取所有x数据的坏客户预测概率\n",
    "pos_probablity_list=[i[1] for i in probablity_list]"
   ]
  },
  {
   "cell_type": "code",
   "execution_count": null,
   "metadata": {},
   "outputs": [],
   "source": [
    "def AUC(y_true, y_scores):\n",
    "    auc_value=0\n",
    "    #auc第二种方法是通过fpr,tpr，通过auc(fpr,tpr)来计算AUC\n",
    "    fpr, tpr, thresholds = metrics.roc_curve(y_true, y_scores, pos_label=1)\n",
    "    auc_value= auc(fpr,tpr) ###计算auc的值 \n",
    "    #print(\"fpr:\",fpr)\n",
    "    #print(\"tpr:\",tpr)\n",
    "    #print(\"thresholds:\",thresholds)\n",
    "    if auc_value<0.5:\n",
    "        auc_value=1-auc_value\n",
    "    return auc_value"
   ]
  },
  {
   "cell_type": "code",
   "execution_count": null,
   "metadata": {},
   "outputs": [],
   "source": [
    "def Draw_roc(auc_value):\n",
    "    fpr, tpr, thresholds = metrics.roc_curve(y_test, pos_probablity_list, pos_label=1)\n",
    "    #画对角线 \n",
    "    plt.plot([0, 1], [0, 1], '--', color=(0.6, 0.6, 0.6), label='Diagonal line') \n",
    "    plt.plot(fpr,tpr,label='ROC curve (area = %0.2f)' % auc_value) \n",
    "    plt.title('ROC curve')  \n",
    "    plt.legend(loc=\"lower right\")"
   ]
  },
  {
   "cell_type": "code",
   "execution_count": null,
   "metadata": {},
   "outputs": [],
   "source": [
    "#评价AUC表现\n",
    "def AUC_performance(AUC):\n",
    "    if AUC >=0.7:\n",
    "        print(\"good classifier\")\n",
    "    if 0.7>AUC>0.6:\n",
    "        print(\"not very good classifier\")\n",
    "    if 0.6>=AUC>0.5:\n",
    "        print(\"useless classifier\")\n",
    "    if 0.5>=AUC:\n",
    "        print(\"bad classifier,with sorting problems\")"
   ]
  },
  {
   "cell_type": "code",
   "execution_count": null,
   "metadata": {},
   "outputs": [],
   "source": [
    "#Gini\n",
    "def Gini(auc):\n",
    "    gini=2*auc-1\n",
    "    return gini"
   ]
  },
  {
   "cell_type": "code",
   "execution_count": null,
   "metadata": {},
   "outputs": [],
   "source": [
    "### 计算KS值\n",
    "def KS(df, score, target):\n",
    "    '''\n",
    "    :param df: 包含目标变量与预测值的数据集\n",
    "    :param score: 得分或者概率\n",
    "    :param target: 目标变量\n",
    "    :return: KS值\n",
    "    '''\n",
    "    #根据score分数和目标变量，对score分数计数\n",
    "    total = df.groupby([score])[target].count()\n",
    "    '''\n",
    "    score\n",
    "    0.00001    4\n",
    "    0.00005    7\n",
    "    0.00006    4\n",
    "    0.00007    1\n",
    "    0.00008    1\n",
    "    '''\n",
    "    bad = df.groupby([score])[target].sum()\n",
    "    all = pd.DataFrame({'total':total, 'bad':bad})\n",
    "    all['good'] = all['total'] - all['bad']\n",
    "    all[score] = all.index\n",
    "    all = all.sort_values(by=score,ascending=True)\n",
    "    all.index = range(len(all))\n",
    "    #坏客户总数\n",
    "    num_bad=all['bad'].sum()\n",
    "    #好客户总数\n",
    "    num_good= all['good'].sum()\n",
    "    #累计坏客户概率\n",
    "    all['badCumRate'] = all['bad'].cumsum() / num_bad\n",
    "    #累计好客户概率\n",
    "    all['goodCumRate'] = all['good'].cumsum() /num_good\n",
    "    #坏客户-好客户概率的序列\n",
    "    ks_array = all.apply(lambda x: abs(x.badCumRate - x.goodCumRate), axis=1)\n",
    "    #坏客户-好客户概率的序列的最大值就是ks值\n",
    "    ks=max(ks_array)\n",
    "    return ks"
   ]
  },
  {
   "cell_type": "code",
   "execution_count": null,
   "metadata": {},
   "outputs": [],
   "source": [
    "#Auc验证，数据采用测试集数据\n",
    "auc_value=AUC(y_test, pos_probablity_list)\n",
    "print(\"AUC:\",auc_value)\n",
    "#评价AUC表现\n",
    "AUC_performance(auc_value)\n",
    "#绘制ROC曲线\n",
    "Draw_roc(auc_value)\n",
    "\n",
    "\n",
    "df=pd.DataFrame({'score':pos_probablity_list, 'target':y_test})\n",
    "#基尼系数\n",
    "gini=Gini(auc_value)\n",
    "print (\"gini\",gini)  \n",
    " \n",
    "#计算KS\n",
    "ks = KS(df,'score','target')\n",
    "print(\"ks value:%.4f\"%ks)"
   ]
  },
  {
   "cell_type": "code",
   "execution_count": null,
   "metadata": {},
   "outputs": [],
   "source": [
    "qq:231469242"
   ]
  },
  {
   "cell_type": "code",
   "execution_count": null,
   "metadata": {},
   "outputs": [],
   "source": []
  },
  {
   "cell_type": "code",
   "execution_count": null,
   "metadata": {},
   "outputs": [],
   "source": []
  },
  {
   "cell_type": "code",
   "execution_count": null,
   "metadata": {},
   "outputs": [],
   "source": []
  }
 ],
 "metadata": {
  "kernelspec": {
   "display_name": "Python 3",
   "language": "python",
   "name": "python3"
  },
  "language_info": {
   "codemirror_mode": {
    "name": "ipython",
    "version": 3
   },
   "file_extension": ".py",
   "mimetype": "text/x-python",
   "name": "python",
   "nbconvert_exporter": "python",
   "pygments_lexer": "ipython3",
   "version": "3.7.3"
  }
 },
 "nbformat": 4,
 "nbformat_minor": 2
}
